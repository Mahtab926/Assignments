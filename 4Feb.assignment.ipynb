{
 "cells": [
  {
   "cell_type": "code",
   "execution_count": null,
   "id": "a1a12867-531d-4ef3-9f9c-a5f157e20de2",
   "metadata": {},
   "outputs": [],
   "source": [
    "#Answr1\n",
    "list_of_tuples = [('Sachin Tendulkar', 34357), ('Ricky Ponting', 27483), ('Jack Kallis', 25534), ('Virat Kohli', 24936)]\n",
    "sorted_list_of_tuples = sorted(list_of_tuples, key=lambda x: x[1], reverse=True)\n",
    "\n",
    "print(sorted_list_of_tuples)"
   ]
  },
  {
   "cell_type": "code",
   "execution_count": null,
   "id": "59a40c4b-2d2c-4cea-a361-83e2fbc39af0",
   "metadata": {},
   "outputs": [],
   "source": [
    "#Answer2\n",
    "s = [1, 2, 3, 4, 5, 6, 7, 8, 9, 10]\n",
    "number_squares = list(map(lambda x:x**2,s))\n",
    "print(number_squares)"
   ]
  },
  {
   "cell_type": "code",
   "execution_count": null,
   "id": "e7294cf4-1b97-4e9a-b030-330d64f0bbc7",
   "metadata": {},
   "outputs": [],
   "source": [
    "#Answer3\n",
    "s2 = [1, 2, 3, 4, 5, 6, 7, 8, 9, 10]\n",
    "string_tuple = tuple(map(lambda x: str(x), s2))\n",
    "print(string_tuple)"
   ]
  },
  {
   "cell_type": "code",
   "execution_count": null,
   "id": "0876a06c-77bd-4907-84fc-b501405d88e3",
   "metadata": {},
   "outputs": [],
   "source": [
    "#Answer4\n",
    "from functools import reduce\n",
    "\n",
    "numbers = range(1, 25)\n",
    "product = reduce(lambda x, y: x*y, numbers)\n",
    "\n",
    "print(product)"
   ]
  },
  {
   "cell_type": "code",
   "execution_count": null,
   "id": "3966fbe3-98e2-4d66-8d29-aa6179523794",
   "metadata": {},
   "outputs": [],
   "source": [
    "#Answer5\n",
    "numbers = [2, 3, 6, 9, 27, 60, 90, 120, 55, 46]\n",
    "filtered_numbers = list(filter(lambda x: x%2 == 0 and x%3 == 0, numbers))\n",
    "print(filtered_numbers)"
   ]
  },
  {
   "cell_type": "code",
   "execution_count": null,
   "id": "9c66bb03-973d-447f-8026-987f8afaf908",
   "metadata": {},
   "outputs": [],
   "source": [
    "#Answer6\n",
    "string_list = ['python', 'php', 'aba', 'radar', 'level']\n",
    "find_palindrome = list(filter(lambda x: (x == \"\".join(reversed(x))), string_list))\n",
    "print(find_palindrome)"
   ]
  },
  {
   "cell_type": "code",
   "execution_count": null,
   "id": "dd700f58-a0e5-4de8-94d4-e8c1e241e7b3",
   "metadata": {},
   "outputs": [],
   "source": []
  }
 ],
 "metadata": {
  "kernelspec": {
   "display_name": "Python 3 (ipykernel)",
   "language": "python",
   "name": "python3"
  },
  "language_info": {
   "codemirror_mode": {
    "name": "ipython",
    "version": 3
   },
   "file_extension": ".py",
   "mimetype": "text/x-python",
   "name": "python",
   "nbconvert_exporter": "python",
   "pygments_lexer": "ipython3",
   "version": "3.10.8"
  }
 },
 "nbformat": 4,
 "nbformat_minor": 5
}
